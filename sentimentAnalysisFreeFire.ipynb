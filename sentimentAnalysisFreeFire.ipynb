{
  "nbformat": 4,
  "nbformat_minor": 0,
  "metadata": {
    "colab": {
      "provenance": []
    },
    "kernelspec": {
      "name": "python3",
      "display_name": "Python 3"
    },
    "language_info": {
      "name": "python"
    }
  },
  "cells": [
    {
      "cell_type": "markdown",
      "source": [
        "# Sentiment Analysis on Free Fire Reviews\n"
      ],
      "metadata": {
        "id": "DCjZstbnMvnM"
      }
    },
    {
      "cell_type": "code",
      "source": [],
      "metadata": {
        "id": "au6YJARxcpPr"
      },
      "execution_count": null,
      "outputs": []
    },
    {
      "cell_type": "code",
      "source": [
        "from google.colab import drive\n",
        "drive.mount('/content/drive')"
      ],
      "metadata": {
        "colab": {
          "base_uri": "https://localhost:8080/"
        },
        "id": "Gwi7jQODMWbZ",
        "outputId": "76fb3555-79da-43b3-ab23-2023c6282582"
      },
      "execution_count": null,
      "outputs": [
        {
          "output_type": "stream",
          "name": "stdout",
          "text": [
            "Drive already mounted at /content/drive; to attempt to forcibly remount, call drive.mount(\"/content/drive\", force_remount=True).\n"
          ]
        }
      ]
    },
    {
      "cell_type": "code",
      "source": [
        "!pip install sastrawi"
      ],
      "metadata": {
        "colab": {
          "base_uri": "https://localhost:8080/"
        },
        "id": "1OZDrwtEINcq",
        "outputId": "deab4bec-199d-4b5d-84c8-6601a7901790"
      },
      "execution_count": null,
      "outputs": [
        {
          "output_type": "stream",
          "name": "stdout",
          "text": [
            "Requirement already satisfied: sastrawi in /usr/local/lib/python3.10/dist-packages (1.0.1)\n"
          ]
        }
      ]
    },
    {
      "cell_type": "code",
      "source": [
        "import numpy as np\n",
        "import pandas as pd\n",
        "import os\n",
        "\n",
        "import nltk\n",
        "import re\n",
        "import string as s\n",
        "import tensorflow as tf\n",
        "from nltk.corpus import stopwords\n",
        "from nltk.stem import PorterStemmer\n",
        "from sklearn.decomposition import TruncatedSVD\n",
        "from sklearn.metrics import confusion_matrix\n",
        "from sklearn.metrics import f1_score, accuracy_score\n",
        "from sklearn.feature_extraction.text import TfidfVectorizer\n",
        "from tensorflow.keras.preprocessing.text import Tokenizer\n",
        "from tensorflow.keras.preprocessing.sequence import pad_sequences\n",
        "\n",
        "import matplotlib.pyplot as plt\n",
        "%matplotlib inline\n",
        "import seaborn as sns\n",
        "from wordcloud import WordCloud"
      ],
      "metadata": {
        "id": "sBEK6V1OMvTi"
      },
      "execution_count": null,
      "outputs": []
    },
    {
      "cell_type": "code",
      "source": [
        "import pandas as pd\n",
        "from sklearn.model_selection import train_test_split\n",
        "\n",
        "# Load the dataset\n",
        "csv_file_path = '/content/drive/MyDrive/sentimenAnalysisFreeFire/dataset_sentimentAnalysis_ff - Fix.csv'  # Update this to your CSV file path\n",
        "df = pd.read_csv(csv_file_path)\n",
        "\n",
        "# Assuming the first column is the target (y) and the second column is the feature (x)\n",
        "y = df.iloc[:, 0].astype(int)  # Convert to integer\n",
        "X = df.iloc[:, 1].astype(str)  # Convert to string\n",
        "# Split the dataset into training and testing sets with a 90/10 ratio\n",
        "X_train, X_test, y_train, y_test = train_test_split(X, y, test_size=0.2, random_state=19)\n",
        "\n",
        "# Convert Series to DataFrame for easier CSV export if necessary\n",
        "train_df = pd.DataFrame({'train_y': y_train, 'train_x': X_train})\n",
        "test_df = pd.DataFrame({'test_y': y_test, 'test_x': X_test})\n",
        "\n",
        "# Export to CSV\n",
        "train_df.to_csv('/content/drive/MyDrive/sentimenAnalysisFreeFire/train_dataset.csv', index=False)\n",
        "test_df.to_csv('/content/drive/MyDrive/sentimenAnalysisFreeFire/test_dataset.csv', index=False)\n",
        "\n",
        "print('Datasets have been split and saved.')\n"
      ],
      "metadata": {
        "colab": {
          "base_uri": "https://localhost:8080/"
        },
        "id": "Kx5Ws4v4CesZ",
        "outputId": "ff844a4d-9a49-4bdc-e9dc-0316cb457b53"
      },
      "execution_count": null,
      "outputs": [
        {
          "output_type": "stream",
          "name": "stdout",
          "text": [
            "Datasets have been split and saved.\n"
          ]
        }
      ]
    },
    {
      "cell_type": "markdown",
      "source": [
        "## Data input and Checking"
      ],
      "metadata": {
        "id": "LOO3XhxaNiBA"
      }
    },
    {
      "cell_type": "code",
      "source": [
        "train_data = pd.read_csv('/content/drive/MyDrive/sentimenAnalysisFreeFire/train_dataset.csv',\n",
        "                         header=0, names=['label', 'comments'])\n",
        "test_data = pd.read_csv('/content/drive/MyDrive/sentimenAnalysisFreeFire/test_dataset.csv',\n",
        "                        header=0, names=['label', 'comments'])\n",
        "\n",
        "train_data['label'] = pd.to_numeric(train_data['label'], errors='coerce')\n",
        "test_data['label'] = pd.to_numeric(test_data['label'], errors='coerce')\n",
        "train_data['label'].fillna(0, inplace=True)\n",
        "test_data['label'].fillna(0, inplace=True)\n",
        "\n",
        "\n",
        "train_data.head()"
      ],
      "metadata": {
        "colab": {
          "base_uri": "https://localhost:8080/",
          "height": 206
        },
        "id": "8ccPTDVGNmFJ",
        "outputId": "750baa11-19bc-4fd9-af4a-9b7d2a2947e0"
      },
      "execution_count": null,
      "outputs": [
        {
          "output_type": "execute_result",
          "data": {
            "text/plain": [
              "   label                                           comments\n",
              "0      1  semenjak update terakhir, saya selalu terkenda...\n",
              "1      1  Game nya bagus tetapi setiap saya main di rank...\n",
              "2      1  Gamenya bagus tapi, ada beberapa hal yg menuru...\n",
              "3      1  Ya free fire itu lumayan bagus tetapi ada bug ...\n",
              "4      1  Gamenya seru sih memang seru tapi kok banyak b..."
            ],
            "text/html": [
              "\n",
              "  <div id=\"df-9a38f433-01eb-4270-8d40-1a9f138edb0f\" class=\"colab-df-container\">\n",
              "    <div>\n",
              "<style scoped>\n",
              "    .dataframe tbody tr th:only-of-type {\n",
              "        vertical-align: middle;\n",
              "    }\n",
              "\n",
              "    .dataframe tbody tr th {\n",
              "        vertical-align: top;\n",
              "    }\n",
              "\n",
              "    .dataframe thead th {\n",
              "        text-align: right;\n",
              "    }\n",
              "</style>\n",
              "<table border=\"1\" class=\"dataframe\">\n",
              "  <thead>\n",
              "    <tr style=\"text-align: right;\">\n",
              "      <th></th>\n",
              "      <th>label</th>\n",
              "      <th>comments</th>\n",
              "    </tr>\n",
              "  </thead>\n",
              "  <tbody>\n",
              "    <tr>\n",
              "      <th>0</th>\n",
              "      <td>1</td>\n",
              "      <td>semenjak update terakhir, saya selalu terkenda...</td>\n",
              "    </tr>\n",
              "    <tr>\n",
              "      <th>1</th>\n",
              "      <td>1</td>\n",
              "      <td>Game nya bagus tetapi setiap saya main di rank...</td>\n",
              "    </tr>\n",
              "    <tr>\n",
              "      <th>2</th>\n",
              "      <td>1</td>\n",
              "      <td>Gamenya bagus tapi, ada beberapa hal yg menuru...</td>\n",
              "    </tr>\n",
              "    <tr>\n",
              "      <th>3</th>\n",
              "      <td>1</td>\n",
              "      <td>Ya free fire itu lumayan bagus tetapi ada bug ...</td>\n",
              "    </tr>\n",
              "    <tr>\n",
              "      <th>4</th>\n",
              "      <td>1</td>\n",
              "      <td>Gamenya seru sih memang seru tapi kok banyak b...</td>\n",
              "    </tr>\n",
              "  </tbody>\n",
              "</table>\n",
              "</div>\n",
              "    <div class=\"colab-df-buttons\">\n",
              "\n",
              "  <div class=\"colab-df-container\">\n",
              "    <button class=\"colab-df-convert\" onclick=\"convertToInteractive('df-9a38f433-01eb-4270-8d40-1a9f138edb0f')\"\n",
              "            title=\"Convert this dataframe to an interactive table.\"\n",
              "            style=\"display:none;\">\n",
              "\n",
              "  <svg xmlns=\"http://www.w3.org/2000/svg\" height=\"24px\" viewBox=\"0 -960 960 960\">\n",
              "    <path d=\"M120-120v-720h720v720H120Zm60-500h600v-160H180v160Zm220 220h160v-160H400v160Zm0 220h160v-160H400v160ZM180-400h160v-160H180v160Zm440 0h160v-160H620v160ZM180-180h160v-160H180v160Zm440 0h160v-160H620v160Z\"/>\n",
              "  </svg>\n",
              "    </button>\n",
              "\n",
              "  <style>\n",
              "    .colab-df-container {\n",
              "      display:flex;\n",
              "      gap: 12px;\n",
              "    }\n",
              "\n",
              "    .colab-df-convert {\n",
              "      background-color: #E8F0FE;\n",
              "      border: none;\n",
              "      border-radius: 50%;\n",
              "      cursor: pointer;\n",
              "      display: none;\n",
              "      fill: #1967D2;\n",
              "      height: 32px;\n",
              "      padding: 0 0 0 0;\n",
              "      width: 32px;\n",
              "    }\n",
              "\n",
              "    .colab-df-convert:hover {\n",
              "      background-color: #E2EBFA;\n",
              "      box-shadow: 0px 1px 2px rgba(60, 64, 67, 0.3), 0px 1px 3px 1px rgba(60, 64, 67, 0.15);\n",
              "      fill: #174EA6;\n",
              "    }\n",
              "\n",
              "    .colab-df-buttons div {\n",
              "      margin-bottom: 4px;\n",
              "    }\n",
              "\n",
              "    [theme=dark] .colab-df-convert {\n",
              "      background-color: #3B4455;\n",
              "      fill: #D2E3FC;\n",
              "    }\n",
              "\n",
              "    [theme=dark] .colab-df-convert:hover {\n",
              "      background-color: #434B5C;\n",
              "      box-shadow: 0px 1px 3px 1px rgba(0, 0, 0, 0.15);\n",
              "      filter: drop-shadow(0px 1px 2px rgba(0, 0, 0, 0.3));\n",
              "      fill: #FFFFFF;\n",
              "    }\n",
              "  </style>\n",
              "\n",
              "    <script>\n",
              "      const buttonEl =\n",
              "        document.querySelector('#df-9a38f433-01eb-4270-8d40-1a9f138edb0f button.colab-df-convert');\n",
              "      buttonEl.style.display =\n",
              "        google.colab.kernel.accessAllowed ? 'block' : 'none';\n",
              "\n",
              "      async function convertToInteractive(key) {\n",
              "        const element = document.querySelector('#df-9a38f433-01eb-4270-8d40-1a9f138edb0f');\n",
              "        const dataTable =\n",
              "          await google.colab.kernel.invokeFunction('convertToInteractive',\n",
              "                                                    [key], {});\n",
              "        if (!dataTable) return;\n",
              "\n",
              "        const docLinkHtml = 'Like what you see? Visit the ' +\n",
              "          '<a target=\"_blank\" href=https://colab.research.google.com/notebooks/data_table.ipynb>data table notebook</a>'\n",
              "          + ' to learn more about interactive tables.';\n",
              "        element.innerHTML = '';\n",
              "        dataTable['output_type'] = 'display_data';\n",
              "        await google.colab.output.renderOutput(dataTable, element);\n",
              "        const docLink = document.createElement('div');\n",
              "        docLink.innerHTML = docLinkHtml;\n",
              "        element.appendChild(docLink);\n",
              "      }\n",
              "    </script>\n",
              "  </div>\n",
              "\n",
              "\n",
              "<div id=\"df-f5c8417b-1671-478c-a474-de58ead10bf0\">\n",
              "  <button class=\"colab-df-quickchart\" onclick=\"quickchart('df-f5c8417b-1671-478c-a474-de58ead10bf0')\"\n",
              "            title=\"Suggest charts\"\n",
              "            style=\"display:none;\">\n",
              "\n",
              "<svg xmlns=\"http://www.w3.org/2000/svg\" height=\"24px\"viewBox=\"0 0 24 24\"\n",
              "     width=\"24px\">\n",
              "    <g>\n",
              "        <path d=\"M19 3H5c-1.1 0-2 .9-2 2v14c0 1.1.9 2 2 2h14c1.1 0 2-.9 2-2V5c0-1.1-.9-2-2-2zM9 17H7v-7h2v7zm4 0h-2V7h2v10zm4 0h-2v-4h2v4z\"/>\n",
              "    </g>\n",
              "</svg>\n",
              "  </button>\n",
              "\n",
              "<style>\n",
              "  .colab-df-quickchart {\n",
              "      --bg-color: #E8F0FE;\n",
              "      --fill-color: #1967D2;\n",
              "      --hover-bg-color: #E2EBFA;\n",
              "      --hover-fill-color: #174EA6;\n",
              "      --disabled-fill-color: #AAA;\n",
              "      --disabled-bg-color: #DDD;\n",
              "  }\n",
              "\n",
              "  [theme=dark] .colab-df-quickchart {\n",
              "      --bg-color: #3B4455;\n",
              "      --fill-color: #D2E3FC;\n",
              "      --hover-bg-color: #434B5C;\n",
              "      --hover-fill-color: #FFFFFF;\n",
              "      --disabled-bg-color: #3B4455;\n",
              "      --disabled-fill-color: #666;\n",
              "  }\n",
              "\n",
              "  .colab-df-quickchart {\n",
              "    background-color: var(--bg-color);\n",
              "    border: none;\n",
              "    border-radius: 50%;\n",
              "    cursor: pointer;\n",
              "    display: none;\n",
              "    fill: var(--fill-color);\n",
              "    height: 32px;\n",
              "    padding: 0;\n",
              "    width: 32px;\n",
              "  }\n",
              "\n",
              "  .colab-df-quickchart:hover {\n",
              "    background-color: var(--hover-bg-color);\n",
              "    box-shadow: 0 1px 2px rgba(60, 64, 67, 0.3), 0 1px 3px 1px rgba(60, 64, 67, 0.15);\n",
              "    fill: var(--button-hover-fill-color);\n",
              "  }\n",
              "\n",
              "  .colab-df-quickchart-complete:disabled,\n",
              "  .colab-df-quickchart-complete:disabled:hover {\n",
              "    background-color: var(--disabled-bg-color);\n",
              "    fill: var(--disabled-fill-color);\n",
              "    box-shadow: none;\n",
              "  }\n",
              "\n",
              "  .colab-df-spinner {\n",
              "    border: 2px solid var(--fill-color);\n",
              "    border-color: transparent;\n",
              "    border-bottom-color: var(--fill-color);\n",
              "    animation:\n",
              "      spin 1s steps(1) infinite;\n",
              "  }\n",
              "\n",
              "  @keyframes spin {\n",
              "    0% {\n",
              "      border-color: transparent;\n",
              "      border-bottom-color: var(--fill-color);\n",
              "      border-left-color: var(--fill-color);\n",
              "    }\n",
              "    20% {\n",
              "      border-color: transparent;\n",
              "      border-left-color: var(--fill-color);\n",
              "      border-top-color: var(--fill-color);\n",
              "    }\n",
              "    30% {\n",
              "      border-color: transparent;\n",
              "      border-left-color: var(--fill-color);\n",
              "      border-top-color: var(--fill-color);\n",
              "      border-right-color: var(--fill-color);\n",
              "    }\n",
              "    40% {\n",
              "      border-color: transparent;\n",
              "      border-right-color: var(--fill-color);\n",
              "      border-top-color: var(--fill-color);\n",
              "    }\n",
              "    60% {\n",
              "      border-color: transparent;\n",
              "      border-right-color: var(--fill-color);\n",
              "    }\n",
              "    80% {\n",
              "      border-color: transparent;\n",
              "      border-right-color: var(--fill-color);\n",
              "      border-bottom-color: var(--fill-color);\n",
              "    }\n",
              "    90% {\n",
              "      border-color: transparent;\n",
              "      border-bottom-color: var(--fill-color);\n",
              "    }\n",
              "  }\n",
              "</style>\n",
              "\n",
              "  <script>\n",
              "    async function quickchart(key) {\n",
              "      const quickchartButtonEl =\n",
              "        document.querySelector('#' + key + ' button');\n",
              "      quickchartButtonEl.disabled = true;  // To prevent multiple clicks.\n",
              "      quickchartButtonEl.classList.add('colab-df-spinner');\n",
              "      try {\n",
              "        const charts = await google.colab.kernel.invokeFunction(\n",
              "            'suggestCharts', [key], {});\n",
              "      } catch (error) {\n",
              "        console.error('Error during call to suggestCharts:', error);\n",
              "      }\n",
              "      quickchartButtonEl.classList.remove('colab-df-spinner');\n",
              "      quickchartButtonEl.classList.add('colab-df-quickchart-complete');\n",
              "    }\n",
              "    (() => {\n",
              "      let quickchartButtonEl =\n",
              "        document.querySelector('#df-f5c8417b-1671-478c-a474-de58ead10bf0 button');\n",
              "      quickchartButtonEl.style.display =\n",
              "        google.colab.kernel.accessAllowed ? 'block' : 'none';\n",
              "    })();\n",
              "  </script>\n",
              "</div>\n",
              "    </div>\n",
              "  </div>\n"
            ],
            "application/vnd.google.colaboratory.intrinsic+json": {
              "type": "dataframe",
              "variable_name": "train_data",
              "summary": "{\n  \"name\": \"train_data\",\n  \"rows\": 800,\n  \"fields\": [\n    {\n      \"column\": \"label\",\n      \"properties\": {\n        \"dtype\": \"number\",\n        \"std\": 0,\n        \"min\": 0,\n        \"max\": 1,\n        \"num_unique_values\": 2,\n        \"samples\": [\n          0,\n          1\n        ],\n        \"semantic_type\": \"\",\n        \"description\": \"\"\n      }\n    },\n    {\n      \"column\": \"comments\",\n      \"properties\": {\n        \"dtype\": \"string\",\n        \"num_unique_values\": 769,\n        \"samples\": [\n          \"Aku kasih bintang 4 karena pas headshot beberapa kali musuh gak mati malah kita yang mati, dan pas gaada musuh sinyal lancar\\u00b2 aja tapi kalo ada musuh sinyal langsung berubah jadi kuning atau merah tolong diperbaiki lagi untuk kedepan nya\",\n          \"Sudah lebih baik, tinggal optimisasi jaringan dan beberapa bug seperti: bug mic, bug damage, bug gloowall dan bug M79 dan granat yang terkadang tidak menimbulkan damage ke musuh sehingga sangat merugikan. Contohnya ketika musuhnya Ter knock down.\"\n        ],\n        \"semantic_type\": \"\",\n        \"description\": \"\"\n      }\n    }\n  ]\n}"
            }
          },
          "metadata": {},
          "execution_count": 5
        }
      ]
    },
    {
      "cell_type": "code",
      "source": [
        "test_data.head()"
      ],
      "metadata": {
        "colab": {
          "base_uri": "https://localhost:8080/",
          "height": 206
        },
        "id": "t6Tb0QF2Oalu",
        "outputId": "aeecd51f-3fa1-477f-91fd-72c6d04269ad"
      },
      "execution_count": null,
      "outputs": [
        {
          "output_type": "execute_result",
          "data": {
            "text/plain": [
              "   label                                           comments\n",
              "0      1  Gamenya udah bagus, cuman masih sering ada bug...\n",
              "1      1                  1 orang merasa ulasan ini berguna\n",
              "2      0  seru apaaan, iya seru sih seru tp itu gangguan...\n",
              "3      1  Updatenya sudah lumayan cuman tolong kedepan n...\n",
              "4      1                                         Saat keren"
            ],
            "text/html": [
              "\n",
              "  <div id=\"df-b04adb13-070e-4d79-9fe1-a0c8d5d00a66\" class=\"colab-df-container\">\n",
              "    <div>\n",
              "<style scoped>\n",
              "    .dataframe tbody tr th:only-of-type {\n",
              "        vertical-align: middle;\n",
              "    }\n",
              "\n",
              "    .dataframe tbody tr th {\n",
              "        vertical-align: top;\n",
              "    }\n",
              "\n",
              "    .dataframe thead th {\n",
              "        text-align: right;\n",
              "    }\n",
              "</style>\n",
              "<table border=\"1\" class=\"dataframe\">\n",
              "  <thead>\n",
              "    <tr style=\"text-align: right;\">\n",
              "      <th></th>\n",
              "      <th>label</th>\n",
              "      <th>comments</th>\n",
              "    </tr>\n",
              "  </thead>\n",
              "  <tbody>\n",
              "    <tr>\n",
              "      <th>0</th>\n",
              "      <td>1</td>\n",
              "      <td>Gamenya udah bagus, cuman masih sering ada bug...</td>\n",
              "    </tr>\n",
              "    <tr>\n",
              "      <th>1</th>\n",
              "      <td>1</td>\n",
              "      <td>1 orang merasa ulasan ini berguna</td>\n",
              "    </tr>\n",
              "    <tr>\n",
              "      <th>2</th>\n",
              "      <td>0</td>\n",
              "      <td>seru apaaan, iya seru sih seru tp itu gangguan...</td>\n",
              "    </tr>\n",
              "    <tr>\n",
              "      <th>3</th>\n",
              "      <td>1</td>\n",
              "      <td>Updatenya sudah lumayan cuman tolong kedepan n...</td>\n",
              "    </tr>\n",
              "    <tr>\n",
              "      <th>4</th>\n",
              "      <td>1</td>\n",
              "      <td>Saat keren</td>\n",
              "    </tr>\n",
              "  </tbody>\n",
              "</table>\n",
              "</div>\n",
              "    <div class=\"colab-df-buttons\">\n",
              "\n",
              "  <div class=\"colab-df-container\">\n",
              "    <button class=\"colab-df-convert\" onclick=\"convertToInteractive('df-b04adb13-070e-4d79-9fe1-a0c8d5d00a66')\"\n",
              "            title=\"Convert this dataframe to an interactive table.\"\n",
              "            style=\"display:none;\">\n",
              "\n",
              "  <svg xmlns=\"http://www.w3.org/2000/svg\" height=\"24px\" viewBox=\"0 -960 960 960\">\n",
              "    <path d=\"M120-120v-720h720v720H120Zm60-500h600v-160H180v160Zm220 220h160v-160H400v160Zm0 220h160v-160H400v160ZM180-400h160v-160H180v160Zm440 0h160v-160H620v160ZM180-180h160v-160H180v160Zm440 0h160v-160H620v160Z\"/>\n",
              "  </svg>\n",
              "    </button>\n",
              "\n",
              "  <style>\n",
              "    .colab-df-container {\n",
              "      display:flex;\n",
              "      gap: 12px;\n",
              "    }\n",
              "\n",
              "    .colab-df-convert {\n",
              "      background-color: #E8F0FE;\n",
              "      border: none;\n",
              "      border-radius: 50%;\n",
              "      cursor: pointer;\n",
              "      display: none;\n",
              "      fill: #1967D2;\n",
              "      height: 32px;\n",
              "      padding: 0 0 0 0;\n",
              "      width: 32px;\n",
              "    }\n",
              "\n",
              "    .colab-df-convert:hover {\n",
              "      background-color: #E2EBFA;\n",
              "      box-shadow: 0px 1px 2px rgba(60, 64, 67, 0.3), 0px 1px 3px 1px rgba(60, 64, 67, 0.15);\n",
              "      fill: #174EA6;\n",
              "    }\n",
              "\n",
              "    .colab-df-buttons div {\n",
              "      margin-bottom: 4px;\n",
              "    }\n",
              "\n",
              "    [theme=dark] .colab-df-convert {\n",
              "      background-color: #3B4455;\n",
              "      fill: #D2E3FC;\n",
              "    }\n",
              "\n",
              "    [theme=dark] .colab-df-convert:hover {\n",
              "      background-color: #434B5C;\n",
              "      box-shadow: 0px 1px 3px 1px rgba(0, 0, 0, 0.15);\n",
              "      filter: drop-shadow(0px 1px 2px rgba(0, 0, 0, 0.3));\n",
              "      fill: #FFFFFF;\n",
              "    }\n",
              "  </style>\n",
              "\n",
              "    <script>\n",
              "      const buttonEl =\n",
              "        document.querySelector('#df-b04adb13-070e-4d79-9fe1-a0c8d5d00a66 button.colab-df-convert');\n",
              "      buttonEl.style.display =\n",
              "        google.colab.kernel.accessAllowed ? 'block' : 'none';\n",
              "\n",
              "      async function convertToInteractive(key) {\n",
              "        const element = document.querySelector('#df-b04adb13-070e-4d79-9fe1-a0c8d5d00a66');\n",
              "        const dataTable =\n",
              "          await google.colab.kernel.invokeFunction('convertToInteractive',\n",
              "                                                    [key], {});\n",
              "        if (!dataTable) return;\n",
              "\n",
              "        const docLinkHtml = 'Like what you see? Visit the ' +\n",
              "          '<a target=\"_blank\" href=https://colab.research.google.com/notebooks/data_table.ipynb>data table notebook</a>'\n",
              "          + ' to learn more about interactive tables.';\n",
              "        element.innerHTML = '';\n",
              "        dataTable['output_type'] = 'display_data';\n",
              "        await google.colab.output.renderOutput(dataTable, element);\n",
              "        const docLink = document.createElement('div');\n",
              "        docLink.innerHTML = docLinkHtml;\n",
              "        element.appendChild(docLink);\n",
              "      }\n",
              "    </script>\n",
              "  </div>\n",
              "\n",
              "\n",
              "<div id=\"df-8bdf5de0-8ba5-4f49-8903-c9adad83aab0\">\n",
              "  <button class=\"colab-df-quickchart\" onclick=\"quickchart('df-8bdf5de0-8ba5-4f49-8903-c9adad83aab0')\"\n",
              "            title=\"Suggest charts\"\n",
              "            style=\"display:none;\">\n",
              "\n",
              "<svg xmlns=\"http://www.w3.org/2000/svg\" height=\"24px\"viewBox=\"0 0 24 24\"\n",
              "     width=\"24px\">\n",
              "    <g>\n",
              "        <path d=\"M19 3H5c-1.1 0-2 .9-2 2v14c0 1.1.9 2 2 2h14c1.1 0 2-.9 2-2V5c0-1.1-.9-2-2-2zM9 17H7v-7h2v7zm4 0h-2V7h2v10zm4 0h-2v-4h2v4z\"/>\n",
              "    </g>\n",
              "</svg>\n",
              "  </button>\n",
              "\n",
              "<style>\n",
              "  .colab-df-quickchart {\n",
              "      --bg-color: #E8F0FE;\n",
              "      --fill-color: #1967D2;\n",
              "      --hover-bg-color: #E2EBFA;\n",
              "      --hover-fill-color: #174EA6;\n",
              "      --disabled-fill-color: #AAA;\n",
              "      --disabled-bg-color: #DDD;\n",
              "  }\n",
              "\n",
              "  [theme=dark] .colab-df-quickchart {\n",
              "      --bg-color: #3B4455;\n",
              "      --fill-color: #D2E3FC;\n",
              "      --hover-bg-color: #434B5C;\n",
              "      --hover-fill-color: #FFFFFF;\n",
              "      --disabled-bg-color: #3B4455;\n",
              "      --disabled-fill-color: #666;\n",
              "  }\n",
              "\n",
              "  .colab-df-quickchart {\n",
              "    background-color: var(--bg-color);\n",
              "    border: none;\n",
              "    border-radius: 50%;\n",
              "    cursor: pointer;\n",
              "    display: none;\n",
              "    fill: var(--fill-color);\n",
              "    height: 32px;\n",
              "    padding: 0;\n",
              "    width: 32px;\n",
              "  }\n",
              "\n",
              "  .colab-df-quickchart:hover {\n",
              "    background-color: var(--hover-bg-color);\n",
              "    box-shadow: 0 1px 2px rgba(60, 64, 67, 0.3), 0 1px 3px 1px rgba(60, 64, 67, 0.15);\n",
              "    fill: var(--button-hover-fill-color);\n",
              "  }\n",
              "\n",
              "  .colab-df-quickchart-complete:disabled,\n",
              "  .colab-df-quickchart-complete:disabled:hover {\n",
              "    background-color: var(--disabled-bg-color);\n",
              "    fill: var(--disabled-fill-color);\n",
              "    box-shadow: none;\n",
              "  }\n",
              "\n",
              "  .colab-df-spinner {\n",
              "    border: 2px solid var(--fill-color);\n",
              "    border-color: transparent;\n",
              "    border-bottom-color: var(--fill-color);\n",
              "    animation:\n",
              "      spin 1s steps(1) infinite;\n",
              "  }\n",
              "\n",
              "  @keyframes spin {\n",
              "    0% {\n",
              "      border-color: transparent;\n",
              "      border-bottom-color: var(--fill-color);\n",
              "      border-left-color: var(--fill-color);\n",
              "    }\n",
              "    20% {\n",
              "      border-color: transparent;\n",
              "      border-left-color: var(--fill-color);\n",
              "      border-top-color: var(--fill-color);\n",
              "    }\n",
              "    30% {\n",
              "      border-color: transparent;\n",
              "      border-left-color: var(--fill-color);\n",
              "      border-top-color: var(--fill-color);\n",
              "      border-right-color: var(--fill-color);\n",
              "    }\n",
              "    40% {\n",
              "      border-color: transparent;\n",
              "      border-right-color: var(--fill-color);\n",
              "      border-top-color: var(--fill-color);\n",
              "    }\n",
              "    60% {\n",
              "      border-color: transparent;\n",
              "      border-right-color: var(--fill-color);\n",
              "    }\n",
              "    80% {\n",
              "      border-color: transparent;\n",
              "      border-right-color: var(--fill-color);\n",
              "      border-bottom-color: var(--fill-color);\n",
              "    }\n",
              "    90% {\n",
              "      border-color: transparent;\n",
              "      border-bottom-color: var(--fill-color);\n",
              "    }\n",
              "  }\n",
              "</style>\n",
              "\n",
              "  <script>\n",
              "    async function quickchart(key) {\n",
              "      const quickchartButtonEl =\n",
              "        document.querySelector('#' + key + ' button');\n",
              "      quickchartButtonEl.disabled = true;  // To prevent multiple clicks.\n",
              "      quickchartButtonEl.classList.add('colab-df-spinner');\n",
              "      try {\n",
              "        const charts = await google.colab.kernel.invokeFunction(\n",
              "            'suggestCharts', [key], {});\n",
              "      } catch (error) {\n",
              "        console.error('Error during call to suggestCharts:', error);\n",
              "      }\n",
              "      quickchartButtonEl.classList.remove('colab-df-spinner');\n",
              "      quickchartButtonEl.classList.add('colab-df-quickchart-complete');\n",
              "    }\n",
              "    (() => {\n",
              "      let quickchartButtonEl =\n",
              "        document.querySelector('#df-8bdf5de0-8ba5-4f49-8903-c9adad83aab0 button');\n",
              "      quickchartButtonEl.style.display =\n",
              "        google.colab.kernel.accessAllowed ? 'block' : 'none';\n",
              "    })();\n",
              "  </script>\n",
              "</div>\n",
              "    </div>\n",
              "  </div>\n"
            ],
            "application/vnd.google.colaboratory.intrinsic+json": {
              "type": "dataframe",
              "variable_name": "test_data",
              "summary": "{\n  \"name\": \"test_data\",\n  \"rows\": 200,\n  \"fields\": [\n    {\n      \"column\": \"label\",\n      \"properties\": {\n        \"dtype\": \"number\",\n        \"std\": 0,\n        \"min\": 0,\n        \"max\": 1,\n        \"num_unique_values\": 2,\n        \"samples\": [\n          0,\n          1\n        ],\n        \"semantic_type\": \"\",\n        \"description\": \"\"\n      }\n    },\n    {\n      \"column\": \"comments\",\n      \"properties\": {\n        \"dtype\": \"string\",\n        \"num_unique_values\": 198,\n        \"samples\": [\n          \"tolong perbaiki di bagian jaringan nya\\ud83d\\ude4f\\ud83c\\udffb, kenapa setiap update, jringannya selalu hilang tb2 padahal jaringan bagus bgt, main game lain lancar2 aja, nonton flm jg lancar2 aj, cmn ini yg bikin ak kesal karna jaringan bagus pas main malah ilang2 gajelas, perbaiki dlu sistem jaringannya.\",\n          \"Elor terus!\"\n        ],\n        \"semantic_type\": \"\",\n        \"description\": \"\"\n      }\n    }\n  ]\n}"
            }
          },
          "metadata": {},
          "execution_count": 6
        }
      ]
    },
    {
      "cell_type": "code",
      "source": [
        "print(train_data.shape)"
      ],
      "metadata": {
        "colab": {
          "base_uri": "https://localhost:8080/"
        },
        "id": "slpTdFaAOgLV",
        "outputId": "1b7bc300-496d-442c-d516-776aaca36af5"
      },
      "execution_count": null,
      "outputs": [
        {
          "output_type": "stream",
          "name": "stdout",
          "text": [
            "(800, 2)\n"
          ]
        }
      ]
    },
    {
      "cell_type": "code",
      "source": [
        "print(test_data.shape)"
      ],
      "metadata": {
        "colab": {
          "base_uri": "https://localhost:8080/"
        },
        "id": "mm6smXaROlhf",
        "outputId": "e3e09b9c-d448-4970-f40e-ca44985e0673"
      },
      "execution_count": null,
      "outputs": [
        {
          "output_type": "stream",
          "name": "stdout",
          "text": [
            "(200, 2)\n"
          ]
        }
      ]
    },
    {
      "cell_type": "code",
      "source": [
        "sns.countplot(x = 'label', data = train_data)\n",
        "plt.show()"
      ],
      "metadata": {
        "colab": {
          "base_uri": "https://localhost:8080/",
          "height": 449
        },
        "id": "vDQ77qucOoEp",
        "outputId": "e079cae9-c791-411d-e75a-1a50e18afda5"
      },
      "execution_count": null,
      "outputs": [
        {
          "output_type": "display_data",
          "data": {
            "text/plain": [
              "<Figure size 640x480 with 1 Axes>"
            ],
            "image/png": "[encoded data removed]"
          },
          "metadata": {}
        }
      ]
    },
    {
      "cell_type": "code",
      "source": [
        "sns.countplot(x = 'label', data = test_data)\n",
        "plt.show()"
      ],
      "metadata": {
        "colab": {
          "base_uri": "https://localhost:8080/",
          "height": 449
        },
        "id": "UWnKu8mdOvLE",
        "outputId": "81a881fb-36b5-4d07-98c9-24809c32ba94"
      },
      "execution_count": null,
      "outputs": [
        {
          "output_type": "display_data",
          "data": {
            "text/plain": [
              "<Figure size 640x480 with 1 Axes>"
            ],
            "image/png": "[encoded data removed]"
          },
          "metadata": {}
        }
      ]
    },
    {
      "cell_type": "code",
      "source": [
        "train_x = train_data.comments\n",
        "test_x = test_data.comments\n",
        "train_y = train_data.label\n",
        "test_y = test_data.label"
      ],
      "metadata": {
        "id": "tlHOBbzEOyAT"
      },
      "execution_count": null,
      "outputs": []
    },
    {
      "cell_type": "markdown",
      "source": [
        "## Preprocessing"
      ],
      "metadata": {
        "id": "a3OqcD9ORDTF"
      }
    },
    {
      "cell_type": "markdown",
      "source": [
        "### Removing Tags"
      ],
      "metadata": {
        "id": "x4FWoSSSRFVk"
      }
    },
    {
      "cell_type": "code",
      "source": [
        "train_x = train_x.fillna('')\n",
        "test_x = test_x.fillna('')"
      ],
      "metadata": {
        "id": "OwqiI7_lGzjD"
      },
      "execution_count": null,
      "outputs": []
    },
    {
      "cell_type": "code",
      "source": [
        "train_x = train_x.astype(str)\n",
        "test_x = test_x.astype(str)"
      ],
      "metadata": {
        "id": "ld_r8kj0HQVZ"
      },
      "execution_count": null,
      "outputs": []
    },
    {
      "cell_type": "code",
      "source": [
        "import re\n",
        "import pandas as pd\n",
        "\n",
        "# Example modification of the remove_html_tag function\n",
        "def remove_html_tag(text):\n",
        "    text = str(text)  # Convert every input to string\n",
        "    html = re.compile('<.*?>')  # Adjusted regex to ensure it works correctly\n",
        "    cleaned_text = html.sub('', text)\n",
        "    return cleaned_text\n",
        "\n",
        "\n",
        "example_text = train_x[2]\n",
        "print(\"Before Preprocessing:\")\n",
        "print(example_text)\n",
        "\n",
        "train_x = train_x.apply(remove_html_tag)\n",
        "test_x = test_x.apply(remove_html_tag)\n",
        "\n",
        "example_text = train_x[2]\n",
        "print(\"\\nAfter Preprocessing:\")\n",
        "print(example_text)"
      ],
      "metadata": {
        "id": "cam9s9K5RCXL",
        "colab": {
          "base_uri": "https://localhost:8080/"
        },
        "outputId": "50999f1b-6f23-4dd4-c31e-96ce22140a4c"
      },
      "execution_count": null,
      "outputs": [
        {
          "output_type": "stream",
          "name": "stdout",
          "text": [
            "Before Preprocessing:\n",
            "Gamenya bagus tapi, ada beberapa hal yg menurut saya nyebelin, 1. suara step, kita cuman denger dan GK tau itu dimana, garena kan bisa miripin yg di PUBG, bisa di lihat dari mana step lawan. 2.ini masalah nya pas lagi war, kalo pake medkit, efek pemulihannya kelamaan, saat selesai medkit, langsung di serang dari belakang, atau pas selesai pake super medkit dan musuh udah langsung nyamperin glowal, malah gue yg mokad duluan. 3.untuk gameplay, kyk susah main antara solo maupun squad, gue mah dua\n",
            "\n",
            "After Preprocessing:\n",
            "Gamenya bagus tapi, ada beberapa hal yg menurut saya nyebelin, 1. suara step, kita cuman denger dan GK tau itu dimana, garena kan bisa miripin yg di PUBG, bisa di lihat dari mana step lawan. 2.ini masalah nya pas lagi war, kalo pake medkit, efek pemulihannya kelamaan, saat selesai medkit, langsung di serang dari belakang, atau pas selesai pake super medkit dan musuh udah langsung nyamperin glowal, malah gue yg mokad duluan. 3.untuk gameplay, kyk susah main antara solo maupun squad, gue mah dua\n"
          ]
        }
      ]
    },
    {
      "cell_type": "markdown",
      "source": [
        "### Removing Links"
      ],
      "metadata": {
        "id": "wJQIzVh0RRHf"
      }
    },
    {
      "cell_type": "code",
      "source": [
        "def url_remove(text):\n",
        "    url = re.compile(r'https?://\\S+|www\\.\\S+')\n",
        "    return url.sub(r'', text)\n",
        "\n",
        "example_text = train_x[2]\n",
        "print(\"Before Preprocessing:\")\n",
        "print(example_text)\n",
        "\n",
        "train_x = train_x.apply(url_remove)\n",
        "test_x = test_x.apply(url_remove)\n",
        "\n",
        "example_text = train_x[2]\n",
        "print(\"After Preprocessing:\")\n",
        "print(example_text)"
      ],
      "metadata": {
        "id": "jgJ7IuRMRVKX",
        "colab": {
          "base_uri": "https://localhost:8080/"
        },
        "outputId": "226647c1-5f6c-4fe1-d868-f990446b4db9"
      },
      "execution_count": null,
      "outputs": [
        {
          "output_type": "stream",
          "name": "stdout",
          "text": [
            "Before Preprocessing:\n",
            "Gamenya bagus tapi, ada beberapa hal yg menurut saya nyebelin, 1. suara step, kita cuman denger dan GK tau itu dimana, garena kan bisa miripin yg di PUBG, bisa di lihat dari mana step lawan. 2.ini masalah nya pas lagi war, kalo pake medkit, efek pemulihannya kelamaan, saat selesai medkit, langsung di serang dari belakang, atau pas selesai pake super medkit dan musuh udah langsung nyamperin glowal, malah gue yg mokad duluan. 3.untuk gameplay, kyk susah main antara solo maupun squad, gue mah dua\n",
            "After Preprocessing:\n",
            "Gamenya bagus tapi, ada beberapa hal yg menurut saya nyebelin, 1. suara step, kita cuman denger dan GK tau itu dimana, garena kan bisa miripin yg di PUBG, bisa di lihat dari mana step lawan. 2.ini masalah nya pas lagi war, kalo pake medkit, efek pemulihannya kelamaan, saat selesai medkit, langsung di serang dari belakang, atau pas selesai pake super medkit dan musuh udah langsung nyamperin glowal, malah gue yg mokad duluan. 3.untuk gameplay, kyk susah main antara solo maupun squad, gue mah dua\n"
          ]
        }
      ]
    },
    {
      "cell_type": "markdown",
      "source": [
        "### Removing stopwords\n",
        "Stopwords yang digunakan berdasarkan dari pustaka nltk.corpus yang mencakup kata kata sebagai berikut:\n"
      ],
      "metadata": {
        "id": "FxL4UFU7Sc--"
      }
    },
    {
      "cell_type": "code",
      "source": [
        "from Sastrawi.StopWordRemover.StopWordRemoverFactory import StopWordRemoverFactory\n",
        "\n",
        "# Initialize the StopWordRemover only once to improve efficiency\n",
        "factory = StopWordRemoverFactory()\n",
        "stopword_remover = factory.create_stop_word_remover()\n",
        "\n",
        "def remove_stopwords(text):\n",
        "    # Convert every input to string, handling NaN and similar cases\n",
        "    text = str(text)\n",
        "\n",
        "    cleaned_text = stopword_remover.remove(text)\n",
        "\n",
        "    return cleaned_text\n",
        "\n",
        "\n",
        "example_text = train_x[2]\n",
        "print(\"Before Preprocessing:\")\n",
        "print(example_text)\n",
        "\n",
        "train_x = train_x.apply(remove_stopwords)\n",
        "test_x = test_x.apply(remove_stopwords)\n",
        "\n",
        "example_text = train_x[2]\n",
        "print(\"After Preprocessing:\")\n",
        "print(example_text)"
      ],
      "metadata": {
        "colab": {
          "base_uri": "https://localhost:8080/"
        },
        "id": "my4LslFvHAwc",
        "outputId": "d6f2aa9e-0745-4afd-f154-99411f559dd6"
      },
      "execution_count": null,
      "outputs": [
        {
          "output_type": "stream",
          "name": "stdout",
          "text": [
            "Before Preprocessing:\n",
            "Gamenya bagus tapi, ada beberapa hal yg menurut saya nyebelin, 1. suara step, kita cuman denger dan GK tau itu dimana, garena kan bisa miripin yg di PUBG, bisa di lihat dari mana step lawan. 2.ini masalah nya pas lagi war, kalo pake medkit, efek pemulihannya kelamaan, saat selesai medkit, langsung di serang dari belakang, atau pas selesai pake super medkit dan musuh udah langsung nyamperin glowal, malah gue yg mokad duluan. 3.untuk gameplay, kyk susah main antara solo maupun squad, gue mah dua\n",
            "After Preprocessing:\n",
            "Gamenya bagus tapi, beberapa yg saya nyebelin, 1. suara step, cuman denger GK tau dimana, garena kan miripin yg PUBG, lihat mana step lawan. 2.ini masalah nya pas war, kalo pake medkit, efek pemulihannya kelamaan, selesai medkit, langsung di serang belakang, pas selesai pake super medkit musuh udah langsung nyamperin glowal, malah gue yg mokad duluan. 3.untuk gameplay, kyk susah main solo maupun squad, gue mah\n"
          ]
        }
      ]
    },
    {
      "cell_type": "code",
      "source": [
        "def garena_remove(text):\n",
        "    garena = re.compile(r'\\b\\w*?garena\\w*?\\b')\n",
        "    return garena.sub(r'', text)\n",
        "\n",
        "example_text = train_x[2]\n",
        "print(\"Before Preprocessing:\")\n",
        "print(example_text)\n",
        "\n",
        "train_x = train_x.apply(garena_remove)\n",
        "test_x = test_x.apply(garena_remove)\n",
        "\n",
        "example_text = train_x[2]\n",
        "print(\"After Preprocessing:\")\n",
        "print(example_text)"
      ],
      "metadata": {
        "colab": {
          "base_uri": "https://localhost:8080/"
        },
        "id": "UCDSHWqUWhJK",
        "outputId": "aa98aad4-0aff-4f96-9d60-4968f800c19b"
      },
      "execution_count": null,
      "outputs": [
        {
          "output_type": "stream",
          "name": "stdout",
          "text": [
            "Before Preprocessing:\n",
            "Gamenya bagus tapi, beberapa yg saya nyebelin, 1. suara step, cuman denger GK tau dimana, garena kan miripin yg PUBG, lihat mana step lawan. 2.ini masalah nya pas war, kalo pake medkit, efek pemulihannya kelamaan, selesai medkit, langsung di serang belakang, pas selesai pake super medkit musuh udah langsung nyamperin glowal, malah gue yg mokad duluan. 3.untuk gameplay, kyk susah main solo maupun squad, gue mah\n",
            "After Preprocessing:\n",
            "Gamenya bagus tapi, beberapa yg saya nyebelin, 1. suara step, cuman denger GK tau dimana,  kan miripin yg PUBG, lihat mana step lawan. 2.ini masalah nya pas war, kalo pake medkit, efek pemulihannya kelamaan, selesai medkit, langsung di serang belakang, pas selesai pake super medkit musuh udah langsung nyamperin glowal, malah gue yg mokad duluan. 3.untuk gameplay, kyk susah main solo maupun squad, gue mah\n"
          ]
        }
      ]
    },
    {
      "cell_type": "markdown",
      "source": [
        "### Tokenization"
      ],
      "metadata": {
        "id": "wCnz2A0dRbDl"
      }
    },
    {
      "cell_type": "code",
      "source": [
        "def word_tokenize(text):\n",
        "    token = re.findall(\"[\\w']+\", text)\n",
        "    return token\n",
        "\n",
        "example_text = train_x[2]\n",
        "print(\"Before Preprocessing:\")\n",
        "print(example_text)\n",
        "\n",
        "train_x = train_x.apply(word_tokenize)\n",
        "test_x = test_x.apply(word_tokenize)\n",
        "#train_x = train_x.apply(word_tokenize)\n",
        "#test_x = test_x.apply(word_tokenize)\n",
        "\n",
        "example_text = train_x[2]\n",
        "print(\"After Preprocessing:\")\n",
        "print(example_text)"
      ],
      "metadata": {
        "id": "7zaWMVxwRZm5",
        "colab": {
          "base_uri": "https://localhost:8080/"
        },
        "outputId": "2ffef4ac-fcbc-4a63-a90f-b7fabe89dc33"
      },
      "execution_count": null,
      "outputs": [
        {
          "output_type": "stream",
          "name": "stdout",
          "text": [
            "Before Preprocessing:\n",
            "Gamenya bagus tapi, beberapa yg saya nyebelin, 1. suara step, cuman denger GK tau dimana,  kan miripin yg PUBG, lihat mana step lawan. 2.ini masalah nya pas war, kalo pake medkit, efek pemulihannya kelamaan, selesai medkit, langsung di serang belakang, pas selesai pake super medkit musuh udah langsung nyamperin glowal, malah gue yg mokad duluan. 3.untuk gameplay, kyk susah main solo maupun squad, gue mah\n",
            "After Preprocessing:\n",
            "['Gamenya', 'bagus', 'tapi', 'beberapa', 'yg', 'saya', 'nyebelin', '1', 'suara', 'step', 'cuman', 'denger', 'GK', 'tau', 'dimana', 'kan', 'miripin', 'yg', 'PUBG', 'lihat', 'mana', 'step', 'lawan', '2', 'ini', 'masalah', 'nya', 'pas', 'war', 'kalo', 'pake', 'medkit', 'efek', 'pemulihannya', 'kelamaan', 'selesai', 'medkit', 'langsung', 'di', 'serang', 'belakang', 'pas', 'selesai', 'pake', 'super', 'medkit', 'musuh', 'udah', 'langsung', 'nyamperin', 'glowal', 'malah', 'gue', 'yg', 'mokad', 'duluan', '3', 'untuk', 'gameplay', 'kyk', 'susah', 'main', 'solo', 'maupun', 'squad', 'gue', 'mah']\n"
          ]
        }
      ]
    },
    {
      "cell_type": "markdown",
      "source": [
        "### Lowercasing"
      ],
      "metadata": {
        "id": "VGWz9wlcSXL-"
      }
    },
    {
      "cell_type": "code",
      "source": [
        "example_text = train_x[2]\n",
        "print(\"Before Preprocessing:\")\n",
        "print(example_text)\n",
        "\n",
        "train_x = train_x.apply(lambda x: [word.lower() for word in x])\n",
        "test_x = test_x.apply(lambda x: [word.lower() for word in x])\n",
        "\n",
        "example_text = train_x[2]\n",
        "print(\"After Preprocessing:\")\n",
        "print(example_text)"
      ],
      "metadata": {
        "id": "xWQNjYhMSUZ5",
        "colab": {
          "base_uri": "https://localhost:8080/"
        },
        "outputId": "af77b8c3-b482-43d5-f741-490393af2cf2"
      },
      "execution_count": null,
      "outputs": [
        {
          "output_type": "stream",
          "name": "stdout",
          "text": [
            "Before Preprocessing:\n",
            "['Gamenya', 'bagus', 'tapi', 'beberapa', 'yg', 'saya', 'nyebelin', '1', 'suara', 'step', 'cuman', 'denger', 'GK', 'tau', 'dimana', 'kan', 'miripin', 'yg', 'PUBG', 'lihat', 'mana', 'step', 'lawan', '2', 'ini', 'masalah', 'nya', 'pas', 'war', 'kalo', 'pake', 'medkit', 'efek', 'pemulihannya', 'kelamaan', 'selesai', 'medkit', 'langsung', 'di', 'serang', 'belakang', 'pas', 'selesai', 'pake', 'super', 'medkit', 'musuh', 'udah', 'langsung', 'nyamperin', 'glowal', 'malah', 'gue', 'yg', 'mokad', 'duluan', '3', 'untuk', 'gameplay', 'kyk', 'susah', 'main', 'solo', 'maupun', 'squad', 'gue', 'mah']\n",
            "After Preprocessing:\n",
            "['gamenya', 'bagus', 'tapi', 'beberapa', 'yg', 'saya', 'nyebelin', '1', 'suara', 'step', 'cuman', 'denger', 'gk', 'tau', 'dimana', 'kan', 'miripin', 'yg', 'pubg', 'lihat', 'mana', 'step', 'lawan', '2', 'ini', 'masalah', 'nya', 'pas', 'war', 'kalo', 'pake', 'medkit', 'efek', 'pemulihannya', 'kelamaan', 'selesai', 'medkit', 'langsung', 'di', 'serang', 'belakang', 'pas', 'selesai', 'pake', 'super', 'medkit', 'musuh', 'udah', 'langsung', 'nyamperin', 'glowal', 'malah', 'gue', 'yg', 'mokad', 'duluan', '3', 'untuk', 'gameplay', 'kyk', 'susah', 'main', 'solo', 'maupun', 'squad', 'gue', 'mah']\n"
          ]
        }
      ]
    },
    {
      "cell_type": "markdown",
      "source": [
        "### Removing Numbers"
      ],
      "metadata": {
        "id": "Ws0EEql4UHcB"
      }
    },
    {
      "cell_type": "code",
      "source": [
        "def remove_number(list):\n",
        "    return [''.join(char for char in word if char not in s.digits) for word in list if word]\n",
        "\n",
        "example_text = train_x[2]\n",
        "print(\"Before Preprocessing:\")\n",
        "print(example_text)\n",
        "\n",
        "train_x = train_x.apply(remove_number)\n",
        "test_x = test_x.apply(remove_number)\n",
        "\n",
        "example_text = train_x[2]\n",
        "print(\"After Preprocessing:\")\n",
        "print(example_text)"
      ],
      "metadata": {
        "id": "dCqGCPL9UFIq",
        "colab": {
          "base_uri": "https://localhost:8080/"
        },
        "outputId": "6eaaf248-1e5a-4958-a33e-aeb06e48e9d6"
      },
      "execution_count": null,
      "outputs": [
        {
          "output_type": "stream",
          "name": "stdout",
          "text": [
            "Before Preprocessing:\n",
            "['gamenya', 'bagus', 'tapi', 'beberapa', 'yg', 'saya', 'nyebelin', '1', 'suara', 'step', 'cuman', 'denger', 'gk', 'tau', 'dimana', 'kan', 'miripin', 'yg', 'pubg', 'lihat', 'mana', 'step', 'lawan', '2', 'ini', 'masalah', 'nya', 'pas', 'war', 'kalo', 'pake', 'medkit', 'efek', 'pemulihannya', 'kelamaan', 'selesai', 'medkit', 'langsung', 'di', 'serang', 'belakang', 'pas', 'selesai', 'pake', 'super', 'medkit', 'musuh', 'udah', 'langsung', 'nyamperin', 'glowal', 'malah', 'gue', 'yg', 'mokad', 'duluan', '3', 'untuk', 'gameplay', 'kyk', 'susah', 'main', 'solo', 'maupun', 'squad', 'gue', 'mah']\n",
            "After Preprocessing:\n",
            "['gamenya', 'bagus', 'tapi', 'beberapa', 'yg', 'saya', 'nyebelin', '', 'suara', 'step', 'cuman', 'denger', 'gk', 'tau', 'dimana', 'kan', 'miripin', 'yg', 'pubg', 'lihat', 'mana', 'step', 'lawan', '', 'ini', 'masalah', 'nya', 'pas', 'war', 'kalo', 'pake', 'medkit', 'efek', 'pemulihannya', 'kelamaan', 'selesai', 'medkit', 'langsung', 'di', 'serang', 'belakang', 'pas', 'selesai', 'pake', 'super', 'medkit', 'musuh', 'udah', 'langsung', 'nyamperin', 'glowal', 'malah', 'gue', 'yg', 'mokad', 'duluan', '', 'untuk', 'gameplay', 'kyk', 'susah', 'main', 'solo', 'maupun', 'squad', 'gue', 'mah']\n"
          ]
        }
      ]
    },
    {
      "cell_type": "code",
      "source": [
        "#Menggabungkan kembali kata menjadi kalimat\n",
        "def join_words_with_space(sentence):\n",
        "    joined_sentence = ' '.join(sentence)\n",
        "    return joined_sentence\n",
        "\n",
        "example_text = train_x[2]\n",
        "print(\"Before Preprocessing:\")\n",
        "print(example_text)\n",
        "\n",
        "train_x = train_x.apply(join_words_with_space)\n",
        "test_x = test_x.apply(join_words_with_space)\n",
        "\n",
        "example_text = train_x[2]\n",
        "print(\"After Preprocessing:\")\n",
        "print(example_text)"
      ],
      "metadata": {
        "colab": {
          "base_uri": "https://localhost:8080/"
        },
        "id": "lmEjeEgFMw3U",
        "outputId": "86533aa2-a0b2-4fea-9d8f-4c8a78417864"
      },
      "execution_count": null,
      "outputs": [
        {
          "output_type": "stream",
          "name": "stdout",
          "text": [
            "Before Preprocessing:\n",
            "['gamenya', 'bagus', 'tapi', 'beberapa', 'yg', 'saya', 'nyebelin', '', 'suara', 'step', 'cuman', 'denger', 'gk', 'tau', 'dimana', 'kan', 'miripin', 'yg', 'pubg', 'lihat', 'mana', 'step', 'lawan', '', 'ini', 'masalah', 'nya', 'pas', 'war', 'kalo', 'pake', 'medkit', 'efek', 'pemulihannya', 'kelamaan', 'selesai', 'medkit', 'langsung', 'di', 'serang', 'belakang', 'pas', 'selesai', 'pake', 'super', 'medkit', 'musuh', 'udah', 'langsung', 'nyamperin', 'glowal', 'malah', 'gue', 'yg', 'mokad', 'duluan', '', 'untuk', 'gameplay', 'kyk', 'susah', 'main', 'solo', 'maupun', 'squad', 'gue', 'mah']\n",
            "After Preprocessing:\n",
            "gamenya bagus tapi beberapa yg saya nyebelin  suara step cuman denger gk tau dimana kan miripin yg pubg lihat mana step lawan  ini masalah nya pas war kalo pake medkit efek pemulihannya kelamaan selesai medkit langsung di serang belakang pas selesai pake super medkit musuh udah langsung nyamperin glowal malah gue yg mokad duluan  untuk gameplay kyk susah main solo maupun squad gue mah\n"
          ]
        }
      ]
    },
    {
      "cell_type": "code",
      "source": [
        "vocab_size = 1500\n",
        "embedding_dim = 50\n",
        "max_length = 50\n",
        "trunc_type = 'post'\n",
        "padding_type = 'post'\n",
        "oov_tok = \"<OOV>\""
      ],
      "metadata": {
        "id": "J4h5RMFqLU7w"
      },
      "execution_count": null,
      "outputs": []
    },
    {
      "cell_type": "code",
      "source": [
        "tokenizer = Tokenizer(num_words=vocab_size, oov_token=\"<OOV>\")\n",
        "tokenizer.fit_on_texts(train_x)\n",
        "word_index = tokenizer.word_index\n",
        "\n",
        "# Convert text to sequences\n",
        "train_sequences = tokenizer.texts_to_sequences(train_x)\n",
        "test_sequences = tokenizer.texts_to_sequences(test_x)\n",
        "\n",
        "# Pad sequences to make them of the same length\n",
        "train_padded_sequences = pad_sequences(train_sequences,  maxlen=max_length, padding=padding_type, truncating=trunc_type)\n",
        "\n",
        "test_padded_sequences = pad_sequences(test_sequences, maxlen=max_length, padding=padding_type, truncating=trunc_type)\n",
        "\n",
        "train_labels_fix = np.array(train_y)\n",
        "test_labels_fix = np.array(test_y)\n",
        "\n",
        "# Ensure the shape of padded_sequences and labels_fix\n",
        "print(\"Shape of padded_sequences:\", train_padded_sequences.shape)\n",
        "print(\"Shape of labels_fix:\", train_labels_fix.shape)\n",
        "\n",
        "# Verify the first few padded sequences and labels\n",
        "print(\"First few padded sequences:\", train_padded_sequences[:5])\n",
        "print(\"First few labels:\", train_labels_fix[:5])"
      ],
      "metadata": {
        "id": "O5jz7LHwLgm4",
        "colab": {
          "base_uri": "https://localhost:8080/"
        },
        "outputId": "06af93ac-2afa-4f8d-b6e1-fc797ef7b3cf"
      },
      "execution_count": null,
      "outputs": [
        {
          "output_type": "stream",
          "name": "stdout",
          "text": [
            "Shape of padded_sequences: (800, 50)\n",
            "Shape of labels_fix: (800,)\n",
            "First few padded sequences: [[ 316   33  690   62    1  606   18  606  442  976    1  384   24   36\n",
            "  1219  483   18   36    1  977   27  443  977  799 1220    3  541  443\n",
            "   691  692   26    7  691   67  607   77   39  316   33  117    1  194\n",
            "     4  279  295    7   34  178 1221  120]\n",
            " [   3    2    5  226    6   52  172  179   13  317 1222  296  542   60\n",
            "   543  800   49   78   39   39   33    7  254 1223    5   22    8    0\n",
            "     0    0    0    0    0    0    0    0    0    0    0    0    0    0\n",
            "     0    0    0    0    0    0    0    0]\n",
            " [  53    5   55  129   17    7 1224  385 1225  167 1226   48  214    1\n",
            "    83    1   17  608  354  355 1225  263   34   84    2   24  215   20\n",
            "    94  609  801    1 1227  356  609  114   16 1228  610   24  356   94\n",
            "  1229  609   15   11  114    1  157   43]\n",
            " [  87   38   50  178    5   32    4   29  693    4   56   21   21  105\n",
            "    13  158    5  235  544  545  690  296   95   32   85  694  484    7\n",
            "   445  195  106  106  153    4  216   65   63  199    0    0    0    0\n",
            "     0    0    0    0    0    0    0    0]\n",
            " [  53   46   66  446   46   91    9   40    4    2   44  184   27    4\n",
            "   409   10 1230   23   91  162  235  544  545    4  145  409   12   11\n",
            "     1  546  803   91   51   23    1  410   44  217   68   44  184   27\n",
            "   409   40  547  695    8  447   45   78]]\n",
            "First few labels: [1 1 1 1 1]\n"
          ]
        }
      ]
    },
    {
      "cell_type": "markdown",
      "source": [
        "## Model Creation\n",
        "Kami menggunakan model berbasis lstm dengan framework tensorflow"
      ],
      "metadata": {
        "id": "rcR6OCmXJqmU"
      }
    },
    {
      "cell_type": "code",
      "source": [
        "def create_model(num_words, embedding_dim, maxlen):\n",
        "    \"\"\"\n",
        "    Creates a text classifier model\n",
        "\n",
        "    Args:\n",
        "        num_words (int): size of the vocabulary for the Embedding layer input\n",
        "        embedding_dim (int): dimensionality of the Embedding layer output\n",
        "        maxlen (int): length of the input sequences\n",
        "\n",
        "    Returns:\n",
        "        model (tf.keras Model): the text classifier model\n",
        "    \"\"\"\n",
        "\n",
        "    model = tf.keras.Sequential([\n",
        "      tf.keras.layers.Embedding(vocab_size, embedding_dim, input_length=maxlen),\n",
        "      tf.keras.layers.Bidirectional(tf.keras.layers.LSTM(10, kernel_regularizer=tf.keras.regularizers.l2(0.001))),\n",
        "      tf.keras.layers.Dropout(0.5),\n",
        "      tf.keras.layers.Dense(1, activation='sigmoid')\n",
        "    ])\n",
        "\n",
        "\n",
        "\n",
        "    model.compile(loss='binary_crossentropy',\n",
        "                  optimizer='adam',\n",
        "                  metrics=['accuracy'])\n",
        "\n",
        "    return model"
      ],
      "metadata": {
        "id": "KMw7J8R4JzYs"
      },
      "execution_count": null,
      "outputs": []
    },
    {
      "cell_type": "markdown",
      "source": [
        "## Training\n",
        "Bagian dibawah akan menjelaskan proses training"
      ],
      "metadata": {
        "id": "RuZqGwX5VOIK"
      }
    },
    {
      "cell_type": "code",
      "source": [
        "model = create_model(vocab_size, embedding_dim, max_length)\n",
        "\n",
        "history = model.fit(train_padded_sequences, train_labels_fix, epochs=15, validation_data=(test_padded_sequences, test_labels_fix))"
      ],
      "metadata": {
        "id": "VgqH_Uy8VMPZ",
        "colab": {
          "base_uri": "https://localhost:8080/"
        },
        "outputId": "bef3f11a-52ab-4d75-fe08-9876f58b072e"
      },
      "execution_count": null,
      "outputs": [
        {
          "output_type": "stream",
          "name": "stdout",
          "text": [
            "Epoch 1/15\n",
            "25/25 [==============================] - 7s 73ms/step - loss: 0.6995 - accuracy: 0.8413 - val_loss: 0.5759 - val_accuracy: 0.9050\n",
            "Epoch 2/15\n",
            "25/25 [==============================] - 1s 30ms/step - loss: 0.5338 - accuracy: 0.8587 - val_loss: 0.3848 - val_accuracy: 0.9050\n",
            "Epoch 3/15\n",
            "25/25 [==============================] - 1s 31ms/step - loss: 0.4722 - accuracy: 0.8587 - val_loss: 0.3674 - val_accuracy: 0.9050\n",
            "Epoch 4/15\n",
            "25/25 [==============================] - 1s 32ms/step - loss: 0.4530 - accuracy: 0.8587 - val_loss: 0.3595 - val_accuracy: 0.9050\n",
            "Epoch 5/15\n",
            "25/25 [==============================] - 1s 32ms/step - loss: 0.4115 - accuracy: 0.8587 - val_loss: 0.3385 - val_accuracy: 0.9050\n",
            "Epoch 6/15\n",
            "25/25 [==============================] - 1s 30ms/step - loss: 0.3713 - accuracy: 0.8587 - val_loss: 0.3130 - val_accuracy: 0.9050\n",
            "Epoch 7/15\n",
            "25/25 [==============================] - 1s 32ms/step - loss: 0.3098 - accuracy: 0.8662 - val_loss: 0.2954 - val_accuracy: 0.9050\n",
            "Epoch 8/15\n",
            "25/25 [==============================] - 1s 32ms/step - loss: 0.2686 - accuracy: 0.8863 - val_loss: 0.2836 - val_accuracy: 0.9100\n",
            "Epoch 9/15\n",
            "25/25 [==============================] - 1s 32ms/step - loss: 0.2274 - accuracy: 0.9137 - val_loss: 0.2865 - val_accuracy: 0.9050\n",
            "Epoch 10/15\n",
            "25/25 [==============================] - 1s 31ms/step - loss: 0.2047 - accuracy: 0.9388 - val_loss: 0.2905 - val_accuracy: 0.9050\n",
            "Epoch 11/15\n",
            "25/25 [==============================] - 1s 41ms/step - loss: 0.1780 - accuracy: 0.9513 - val_loss: 0.3193 - val_accuracy: 0.9000\n",
            "Epoch 12/15\n",
            "25/25 [==============================] - 1s 55ms/step - loss: 0.1307 - accuracy: 0.9737 - val_loss: 0.3383 - val_accuracy: 0.8950\n",
            "Epoch 13/15\n",
            "25/25 [==============================] - 1s 54ms/step - loss: 0.1094 - accuracy: 0.9800 - val_loss: 0.3515 - val_accuracy: 0.8900\n",
            "Epoch 14/15\n",
            "25/25 [==============================] - 1s 53ms/step - loss: 0.0916 - accuracy: 0.9887 - val_loss: 0.3405 - val_accuracy: 0.8900\n",
            "Epoch 15/15\n",
            "25/25 [==============================] - 1s 32ms/step - loss: 0.0902 - accuracy: 0.9825 - val_loss: 0.3682 - val_accuracy: 0.8900\n"
          ]
        }
      ]
    },
    {
      "cell_type": "code",
      "source": [
        "def plot_graphs(history, metric):\n",
        "    plt.plot(history.history[metric])\n",
        "    plt.plot(history.history[f'val_{metric}'])\n",
        "    plt.xlabel(\"Epochs\")\n",
        "    plt.ylabel(metric)\n",
        "    plt.legend([metric, f'val_{metric}'])\n",
        "    plt.show()\n",
        "\n",
        "plot_graphs(history, \"accuracy\")\n",
        "plot_graphs(history, \"loss\")"
      ],
      "metadata": {
        "id": "V279u8fsNeK0",
        "colab": {
          "base_uri": "https://localhost:8080/",
          "height": 881
        },
        "outputId": "888e438d-38f1-4951-df68-4c00db4c2a77"
      },
      "execution_count": null,
      "outputs": [
        {
          "output_type": "display_data",
          "data": {
            "text/plain": [
              "<Figure size 640x480 with 1 Axes>"
            ],
            "image/png": "[encoded data removed]"
          },
          "metadata": {}
        },
        {
          "output_type": "display_data",
          "data": {
            "text/plain": [
              "<Figure size 640x480 with 1 Axes>"
            ],
            "image/png": "[encoded data removed]"
          },
          "metadata": {}
        }
      ]
    },
    {
      "cell_type": "markdown",
      "source": [
        "## Evaluation"
      ],
      "metadata": {
        "id": "tBctBTYqexxE"
      }
    },
    {
      "cell_type": "markdown",
      "source": [
        "### Metriks Evaluasi\n",
        "Metriks evaluasi yang saya gunakan adalah F1 Score, akurasi, dan confusion matrix plot"
      ],
      "metadata": {
        "id": "ljEaZ5xhe1tO"
      }
    },
    {
      "cell_type": "code",
      "source": [
        "# Make predictions\n",
        "train_predictions = model.predict(train_padded_sequences)\n",
        "test_predictions = model.predict(test_padded_sequences)\n",
        "\n",
        "# Convert predictions to label indices\n",
        "train_pred_labels = np.round(train_predictions)\n",
        "test_pred_labels = np.round(test_predictions)\n",
        "\n",
        "# Compute confusion matrices\n",
        "conf_matrix_train = confusion_matrix(train_labels_fix, train_pred_labels)\n",
        "conf_matrix_test = confusion_matrix(test_labels_fix, test_pred_labels)\n",
        "\n",
        "# Function to plot confusion matrix\n",
        "def plot_confusion_matrix(cm, title='Confusion Matrix'):\n",
        "    plt.figure(figsize=(6,6))\n",
        "    sns.heatmap(cm, annot=True, fmt='d', cmap='Blues', cbar=False, linewidths=0.5, linecolor='black')\n",
        "    plt.xlabel('Predicted Label')\n",
        "    plt.ylabel('True Label')\n",
        "    plt.title(title)\n",
        "    plt.show()\n",
        "\n",
        "# Plot confusion matrices\n",
        "plot_confusion_matrix(conf_matrix_train, title='Confusion Matrix - Training Data')\n",
        "plot_confusion_matrix(conf_matrix_test, title='Confusion Matrix - Testing Data')\n",
        "\n",
        "print(\"Training Data:\")\n",
        "for i in range(10):\n",
        "    print(\"Predicted Label:\", train_pred_labels[i], \"| Actual Label:\", train_labels_fix[i])\n",
        "\n",
        "# Print the first 10 predicted labels and actual labels for the testing data\n",
        "print(\"\\nTesting Data:\")\n",
        "for i in range(10):\n",
        "    print(\"Predicted Label:\", test_pred_labels[i], \"| Actual Label:\", test_labels_fix[i])"
      ],
      "metadata": {
        "colab": {
          "base_uri": "https://localhost:8080/",
          "height": 1000
        },
        "id": "-Svim5i6Ptlx",
        "outputId": "27d5aee3-3f15-4057-d1cb-f1b80f3a82d2"
      },
      "execution_count": null,
      "outputs": [
        {
          "output_type": "stream",
          "name": "stdout",
          "text": [
            "25/25 [==============================] - 1s 10ms/step\n",
            "7/7 [==============================] - 1s 15ms/step\n"
          ]
        },
        {
          "output_type": "display_data",
          "data": {
            "text/plain": [
              "<Figure size 600x600 with 1 Axes>"
            ],
            "image/png": "[encoded data removed]"
          },
          "metadata": {}
        },
        {
          "output_type": "display_data",
          "data": {
            "text/plain": [
              "<Figure size 600x600 with 1 Axes>"
            ],
            "image/png": "[encoded data removed]"
          },
          "metadata": {}
        },
        {
          "output_type": "stream",
          "name": "stdout",
          "text": [
            "Training Data:\n",
            "Predicted Label: [1.] | Actual Label: 1\n",
            "Predicted Label: [1.] | Actual Label: 1\n",
            "Predicted Label: [1.] | Actual Label: 1\n",
            "Predicted Label: [1.] | Actual Label: 1\n",
            "Predicted Label: [1.] | Actual Label: 1\n",
            "Predicted Label: [1.] | Actual Label: 1\n",
            "Predicted Label: [1.] | Actual Label: 1\n",
            "Predicted Label: [1.] | Actual Label: 1\n",
            "Predicted Label: [1.] | Actual Label: 1\n",
            "Predicted Label: [1.] | Actual Label: 1\n",
            "\n",
            "Testing Data:\n",
            "Predicted Label: [1.] | Actual Label: 1\n",
            "Predicted Label: [1.] | Actual Label: 1\n",
            "Predicted Label: [1.] | Actual Label: 0\n",
            "Predicted Label: [1.] | Actual Label: 1\n",
            "Predicted Label: [1.] | Actual Label: 1\n",
            "Predicted Label: [1.] | Actual Label: 1\n",
            "Predicted Label: [1.] | Actual Label: 1\n",
            "Predicted Label: [1.] | Actual Label: 1\n",
            "Predicted Label: [1.] | Actual Label: 1\n",
            "Predicted Label: [1.] | Actual Label: 1\n"
          ]
        }
      ]
    },
    {
      "cell_type": "markdown",
      "source": [
        "# Kesimpulan\n",
        "Dalam percobaan ini telah dilakukan proses Klasifikasi Komentar Aplikasi Free Fire menggunakan metode Bidirectional LSTM (Long Short-Term Memory). Hasil yang kami dapatkan adalah tingkat accuracy 98% dan validation 89%.\n",
        "\n",
        "Bidirectional LSTM, dengan kemampuannya untuk menangkap informasi secara dua arah (Forward dan Backward) mampu menghasilkan hasil training yang dapat mengklasifikasi dan memprediksi komentar positif ataupun negatif"
      ],
      "metadata": {
        "id": "rixfIaI9farL"
      }
    }
  ]
}